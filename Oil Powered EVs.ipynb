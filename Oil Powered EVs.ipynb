{
 "cells": [
  {
   "cell_type": "code",
   "execution_count": null,
   "metadata": {},
   "outputs": [],
   "source": [
    "import pandas as pd\n",
    "import numpy as np\n",
    "import scipy.optimize as opt"
   ]
  },
  {
   "cell_type": "markdown",
   "metadata": {},
   "source": [
    "# Vehicles"
   ]
  },
  {
   "cell_type": "code",
   "execution_count": null,
   "metadata": {},
   "outputs": [],
   "source": [
    "num_vehicles = pd.Series([194348815, 59465369], ['Short WB', 'Long WB'])\n",
    "avg_miles_traveled = pd.Series([11599, 11263], ['Short WB', 'Long WB'])\n",
    "mpg = pd.Series([24.1, 17.6], ['Short WB', 'Long WB'])\n",
    "\n",
    "print('Federal transportation stats have vehicle miles/mpg stats by short- and long-wheelbase.')\n",
    "print('Some of the Short WB cars are actually EVs, but these will be ignored because they''re on only about 0.5% of the total.')\n",
    "pd.DataFrame({\n",
    "    'Millions of Vehicles': (num_vehicles / 1e6).round(1),\n",
    "    'Avg. Miles Traveled/Year': avg_miles_traveled,\n",
    "    'MPG': mpg\n",
    "})\n",
    "\n",
    "# https://www.fhwa.dot.gov/policyinformation/statistics/2019/pdf/vm1.pdf"
   ]
  },
  {
   "cell_type": "code",
   "execution_count": null,
   "metadata": {},
   "outputs": [],
   "source": [
    "nvs, nvl = num_vehicles / num_vehicles.sum()\n",
    "suv = 0.12\n",
    "# https://hedgescompany.com/automotive-market-research-statistics/auto-mailing-lists-and-marketing/\n",
    "\n",
    "frac_vehicles = pd.Series(\n",
    "    [nvs, suv, nvl - suv],\n",
    "    ['Car', 'SUV', 'Truck'])\n",
    "\n",
    "num_vehicles3 = frac_vehicles * num_vehicles.sum()\n",
    "\n",
    "ams, aml = avg_miles_traveled\n",
    "avg_miles_traveled3 = pd.Series(\n",
    "    [ams, aml, aml],\n",
    "    ['Car', 'SUV', 'Truck'])\n",
    "\n",
    "print('For EV calcs, we can break up SUVs and trucks if we assume 12% of vehicles are SUVs.')\n",
    "print('This should help get a more realistic estimate of EV wh/mi for a replacement fleet.')\n",
    "pd.DataFrame({\n",
    "    'Millions of Vehicles': (num_vehicles3 / 1e6).round(1),\n",
    "    'Avg. Miles Traveled/Year': avg_miles_traveled3\n",
    "})"
   ]
  },
  {
   "cell_type": "markdown",
   "metadata": {},
   "source": [
    "# ICE"
   ]
  },
  {
   "cell_type": "code",
   "execution_count": null,
   "metadata": {},
   "outputs": [],
   "source": [
    "# refinery_efficiency = 0.865\n",
    "# # https://publications.anl.gov/anlpubs/2011/01/69026.pdf"
   ]
  },
  {
   "cell_type": "code",
   "execution_count": null,
   "metadata": {},
   "outputs": [],
   "source": [
    "refinery_yield = pd.Series(\n",
    "    [3.5, 46.2, 0.1, 10.5, 0.1, 29.7, 2.1],\n",
    "    ['Hydrocarbon Gas Liquids', 'Finished Motor Gasoline', 'Aviation Gasoline', 'Kerosene-Type Jet Fuel', 'Kerosene', 'Distillate Fuel Oil', 'Residual Fuel Oil'])\n",
    "refinery_yield /= 100\n",
    "# https://www.eia.gov/dnav/pet/pet_pnp_pct_dc_nus_pct_m.htm\n",
    "\n",
    "print('Refineries produce multiple types of fuels from a barrel of oil.')\n",
    "refinery_yield"
   ]
  },
  {
   "cell_type": "code",
   "execution_count": null,
   "metadata": {},
   "outputs": [],
   "source": [
    "ice_gasoline_gal = (num_vehicles * avg_miles_traveled / mpg).sum()\n",
    "gallon_barrel = 42\n",
    "ice_oil_barrels = ice_gasoline_gal / refinery_yield['Finished Motor Gasoline'] / gallon_barrel\n",
    "print(f'{ice_oil_barrels / 1e9:.1f} BBO refined to produce gasoline for ICE propulsion.')\n",
    "print('More is consumed for other purposes.')"
   ]
  },
  {
   "cell_type": "markdown",
   "metadata": {},
   "source": [
    "# EV"
   ]
  },
  {
   "cell_type": "code",
   "execution_count": null,
   "metadata": {},
   "outputs": [],
   "source": [
    "transmission_losses = 0.05\n",
    "# https://www.eia.gov/tools/faqs/faq.php?id=105&t=3\n",
    "\n",
    "ev_other = 0.2\n",
    "# https://www.energy.gov/eere/vehicles/articles/fotw-1045-september-3-2018-77-82-energy-put-electric-car-used-move-car-down\n",
    "\n",
    "ev_efficiency_wh_mi = pd.Series(\n",
    "    [280, 302, 98 * 1000 / 230],\n",
    "    ['Car', 'SUV', 'Truck']\n",
    ")\n",
    "# https://ev-database.org/#sort:path~type~order=.rank~number~desc|make-checkbox-dropdown:pathGroup=.ford|range-slider-range:prev~next=0~1200|range-slider-acceleration:prev~next=2~23|range-slider-topspeed:prev~next=110~450|range-slider-battery:prev~next=10~200|range-slider-towweight:prev~next=0~2500|range-slider-fastcharge:prev~next=0~1500|paging:currentPage=0|paging:number=9\n",
    "# https://www.ford.com/trucks/f150/f150-lightning/2022\n",
    "\n",
    "pd.DataFrame({\n",
    "    'EV wh/mi': ev_efficiency_wh_mi.round()\n",
    "})"
   ]
  },
  {
   "cell_type": "markdown",
   "metadata": {},
   "source": [
    "# Generation"
   ]
  },
  {
   "cell_type": "code",
   "execution_count": null,
   "metadata": {},
   "outputs": [],
   "source": [
    "ev_drive_wh = (num_vehicles3 * avg_miles_traveled3 * ev_efficiency_wh_mi).sum()\n",
    "ev_drive_kwh = ev_drive_wh / 1000\n",
    "print(f'EV driving demand requires {ev_drive_kwh / 1e9:.1f} TWh electrical.')\n",
    "\n",
    "ev_gen_kwh = ev_drive_kwh / (1 - transmission_losses) / (1 - ev_other)\n",
    "print(f'EV driving demand requires {ev_gen_kwh / 1e9:.1f} TWh thermal.')"
   ]
  },
  {
   "cell_type": "code",
   "execution_count": null,
   "metadata": {},
   "outputs": [],
   "source": [
    "liter_gallon = 3.78541178\n",
    "barrel_m3 = gallon_barrel * liter_gallon / 1000\n",
    "\n",
    "oil_density_kg_m3 = (816 + 840) / 2 # midpoint of light oil\n",
    "# https://www.cmegroup.com/content/dam/cmegroup/rulebook/NYMEX/2/200.pdf\n",
    "\n",
    "barrel_kg = barrel_m3 * oil_density_kg_m3"
   ]
  },
  {
   "cell_type": "code",
   "execution_count": null,
   "metadata": {},
   "outputs": [],
   "source": [
    "efficiency_ccgt = 0.6\n",
    "# https://www.ipieca.org/resources/energy-efficiency-solutions/power-and-heat-generation/combined-cycle-gas-turbines/"
   ]
  },
  {
   "cell_type": "code",
   "execution_count": null,
   "metadata": {},
   "outputs": [],
   "source": [
    "print('If gasoline demand is cut significantly, refinery operators should be expected to adjust the mix of products output.')\n",
    "print('Strip out ICE demand for gasoline from refined product demand.')\n",
    "other_refinery_demand = ice_oil_barrels * refinery_yield\n",
    "other_refinery_demand['Finished Motor Gasoline'] = 0"
   ]
  },
  {
   "cell_type": "code",
   "execution_count": null,
   "metadata": {},
   "outputs": [],
   "source": [
    "lhv_kwh_kg = pd.Series(\n",
    "    [\n",
    "        (12.58 + 13.28 + 12.88) / 3, # average of butane, ethane, propane\n",
    "        12.06, 12.06, 11.94, 11.94,\n",
    "        (11.83 + 11.28) / 2, # average of diesel and light fuel oil\n",
    "        10.83\n",
    "    ], \n",
    "    ['Hydrocarbon Gas Liquids', 'Finished Motor Gasoline', 'Aviation Gasoline', 'Kerosene-Type Jet Fuel', 'Kerosene', 'Distillate Fuel Oil', 'Residual Fuel Oil'])\n",
    "# https://www.engineeringtoolbox.com/amp/fuels-higher-calorific-values-d_169.html"
   ]
  },
  {
   "cell_type": "code",
   "execution_count": null,
   "metadata": {},
   "outputs": [],
   "source": [
    "c = np.ones(14)\n",
    "\n",
    "# set minimum on the fraction yielded of each product\n",
    "min_frac = refinery_yield / refinery_yield.sum() / 2\n",
    "A_lb = np.zeros((7, 14))\n",
    "for i in range(7):\n",
    "    A_lb[i, :7] = -min_frac[i]\n",
    "    A_lb[i, i] = 1 - min_frac[i]\n",
    "\n",
    "A_ub = -A_lb\n",
    "b_ub = np.zeros(7)\n",
    "\n",
    "# the total thermal energy per barrel\n",
    "A_eq = np.ones((1, 14))\n",
    "A_eq[0, :7] = barrel_kg * lhv_kwh_kg\n",
    "A_eq[0, 7:] = -A_eq[0, :7]\n",
    "A_eq\n",
    "\n",
    "b_eq = np.array([ev_gen_kwh / efficiency_ccgt])\n",
    "\n",
    "bounds = [(b, None) for b in other_refinery_demand] + [(b, b) for b in other_refinery_demand]\n",
    "res = opt.linprog(c, A_ub, b_ub, A_eq, b_eq, bounds, method='highs-ds')\n",
    "assert res.success\n",
    "x = res.x[:7]\n",
    "x"
   ]
  },
  {
   "cell_type": "code",
   "execution_count": null,
   "metadata": {},
   "outputs": [],
   "source": [
    "ev_oil_barrels = x.sum() / refinery_yield.sum()\n",
    "alt_refinery_yield = pd.Series(x / ev_oil_barrels, refinery_yield.index)\n",
    "\n",
    "pd.DataFrame({\n",
    "    'Refinery Yield': (100 * refinery_yield).round(1),\n",
    "    'Alt. Refinery Yield': (100 * alt_refinery_yield).round(1)\n",
    "})"
   ]
  },
  {
   "cell_type": "code",
   "execution_count": null,
   "metadata": {},
   "outputs": [],
   "source": [
    "fuel_barrels = ev_oil_barrels * alt_refinery_yield - other_refinery_demand\n",
    "assert (fuel_barrels > -0.5).all()\n",
    "alt_gen_kwh = (fuel_barrels * barrel_kg * lhv_kwh_kg).sum() * efficiency_ccgt\n",
    "assert abs(alt_gen_kwh - ev_gen_kwh) < 1"
   ]
  },
  {
   "cell_type": "code",
   "execution_count": null,
   "metadata": {},
   "outputs": [],
   "source": [
    "bbo = pd.DataFrame({\n",
    "    'ICE': ice_oil_barrels,\n",
    "    'EV': ev_oil_barrels\n",
    "}, index=['BBO'])\n",
    "bbo['Diff'] = bbo['EV'] - bbo['ICE']\n",
    "(bbo / 1e9).round(2)"
   ]
  },
  {
   "cell_type": "code",
   "execution_count": null,
   "metadata": {},
   "outputs": [],
   "source": [
    "other_inputs = 0.05\n",
    "print('Refineries obtain their energy from the oil input, but they also take in external energy, particularly natural gas.')\n",
    "print('Refining less oil saves that external natural gas consumption.')"
   ]
  },
  {
   "cell_type": "markdown",
   "metadata": {},
   "source": [
    "# Check"
   ]
  },
  {
   "cell_type": "code",
   "execution_count": null,
   "metadata": {},
   "outputs": [],
   "source": [
    "gasoline_yield = 0.45\n",
    "thermal_eff_ice = 0.2\n",
    "eff_ev = 0.9\n",
    "eff_transmission = 0.95\n",
    "eff_ccgt = 0.6\n",
    "eff_refining = 0.92"
   ]
  },
  {
   "cell_type": "code",
   "execution_count": null,
   "metadata": {},
   "outputs": [],
   "source": [
    "gasoline_barrels = ice_oil_barrels * gasoline_yield\n",
    "ev_barrels = gasoline_barrels * thermal_eff_ice / (eff_ev * eff_transmission * efficiency_ccgt)\n",
    "check = (gasoline_barrels - ev_barrels) / eff_refining\n",
    "print(f'As a check: save about {check / 1e9:.1f} BBO.')"
   ]
  }
 ],
 "metadata": {
  "interpreter": {
   "hash": "bf31f4de5550d14fa08aac0360437f114b3cb9af30389f6a4ba3c2d653d59045"
  },
  "kernelspec": {
   "display_name": "Python 3.8.11 ('base')",
   "language": "python",
   "name": "python3"
  },
  "language_info": {
   "codemirror_mode": {
    "name": "ipython",
    "version": 3
   },
   "file_extension": ".py",
   "mimetype": "text/x-python",
   "name": "python",
   "nbconvert_exporter": "python",
   "pygments_lexer": "ipython3",
   "version": "3.9.7"
  },
  "orig_nbformat": 4
 },
 "nbformat": 4,
 "nbformat_minor": 2
}
